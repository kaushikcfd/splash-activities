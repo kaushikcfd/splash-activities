{
 "cells": [
  {
   "cell_type": "code",
   "execution_count": 1,
   "metadata": {
    "colab": {
     "autoexec": {
      "startup": false,
      "wait_interval": 0
     },
     "base_uri": "https://localhost:8080/",
     "height": 346
    },
    "colab_type": "code",
    "executionInfo": {
     "elapsed": 513,
     "status": "error",
     "timestamp": 1530245810986,
     "user": {
      "displayName": "Andreas Klöckner",
      "photoUrl": "//lh4.googleusercontent.com/-zL-l2ojVD3Y/AAAAAAAAAAI/AAAAAAAAADU/xTRtz-YgTMo/s50-c-k-no/photo.jpg",
      "userId": "117997603829991809307"
     },
     "user_tz": 300
    },
    "id": "sPcEPlxKt8g1",
    "outputId": "0185d7ea-2346-49da-c0a8-f31c64aa28e5"
   },
   "outputs": [],
   "source": [
    "import numpy as np\n",
    "import matplotlib.pyplot as plt\n",
    "from matplotlib.text import Annotation\n",
    "from matplotlib import animation\n",
    "%matplotlib inline\n",
    "from ipywidgets import interact, interactive, fixed, interact_manual\n",
    "import ipywidgets as widgets"
   ]
  },
  {
   "cell_type": "markdown",
   "metadata": {},
   "source": [
    "The activity below helps you manipulate height($\\bigtriangleup y$) and width($\\bigtriangleup x$) of a hill which of the quantity directly relates to the difficulty it takes to pull the ball up the hill.\n",
    "1. $\\bigtriangleup y$, or\n",
    "2. $\\bigtriangleup x$, or\n",
    "3. $\\dfrac{\\bigtriangleup y}{\\bigtriangleup x}$\n",
    "\n",
    "Answer purely based on your visual observation."
   ]
  },
  {
   "cell_type": "code",
   "execution_count": 2,
   "metadata": {},
   "outputs": [
    {
     "data": {
      "application/vnd.jupyter.widget-view+json": {
       "model_id": "88029695406c49b6bc206dafb81f1442",
       "version_major": 2,
       "version_minor": 0
      },
      "text/html": [
       "<p>Failed to display Jupyter Widget of type <code>interactive</code>.</p>\n",
       "<p>\n",
       "  If you're reading this message in the Jupyter Notebook or JupyterLab Notebook, it may mean\n",
       "  that the widgets JavaScript is still loading. If this message persists, it\n",
       "  likely means that the widgets JavaScript library is either not installed or\n",
       "  not enabled. See the <a href=\"https://ipywidgets.readthedocs.io/en/stable/user_install.html\">Jupyter\n",
       "  Widgets Documentation</a> for setup instructions.\n",
       "</p>\n",
       "<p>\n",
       "  If you're reading this message in another frontend (for example, a static\n",
       "  rendering on GitHub or <a href=\"https://nbviewer.jupyter.org/\">NBViewer</a>),\n",
       "  it may mean that your frontend doesn't currently support widgets.\n",
       "</p>\n"
      ],
      "text/plain": [
       "interactive(children=(FloatSlider(value=5.0, continuous_update=False, description='dx', max=10.0, min=1.0, step=1.0), FloatSlider(value=5.0, continuous_update=False, description='dy', max=10.0, min=1.0, step=1.0), Output()), _dom_classes=('widget-interact',))"
      ]
     },
     "metadata": {},
     "output_type": "display_data"
    },
    {
     "data": {
      "text/plain": [
       "<function __main__.how_does_slope_matter>"
      ]
     },
     "execution_count": 2,
     "metadata": {},
     "output_type": "execute_result"
    }
   ],
   "source": [
    "def how_does_slope_matter(dx, dy):\n",
    "    x = np.linspace(0, dx, 1000)\n",
    "    y = (dy/dx)*x\n",
    "    \n",
    "    plt.plot(x, y)\n",
    "    plt.plot(x, np.zeros_like(x), '--', 'r')\n",
    "    plt.plot(dx*np.ones_like(y), y, '--', 'b')\n",
    "    plt.title('On what quantity does the difficulty to pull the ball on the hill depend on?')\n",
    "    plt.xlabel('X')\n",
    "    plt.ylabel('Y')\n",
    "    plt.axis('equal')\n",
    "    text1 = r'$\\bigtriangleup$ x = %.1f' % dx\n",
    "    text2 = r'$\\bigtriangleup$ y = %.1f' % dy\n",
    "    text3 = r'$\\frac{\\bigtriangleup y}{\\bigtriangleup x}$ = %.1f' % (dy/dx)\n",
    "    plt.text(0.2*dx, 0.1*dx, text1, color='r', fontsize=14)\n",
    "    plt.text(dx, 0.5*dy, text2, color='g', fontsize=14)\n",
    "    plt.text(0, 0.8*dy, text3, color='b', fontsize=16)\n",
    "    plt.scatter(0.45*dx, 0.5*dy, color='k', s=100)\n",
    "    plt.arrow(0.45*dx, 0.5*dy, 0.2*dx, 0.2*dy,ec=\"k\", head_width=0.05*dx, head_length=0.05*dy )\n",
    "\n",
    "interact(how_does_slope_matter,\n",
    "        dx=widgets.FloatSlider(min=1, max=10, step=1, value=5, continuous_update=False),\n",
    "        dy=widgets.FloatSlider(min=1, max=10, step=1, value=5, continuous_update=False))"
   ]
  },
  {
   "cell_type": "markdown",
   "metadata": {},
   "source": [
    "In the below curve, compute the quantity $\\frac{\\bigtriangleup y}{\\bigtriangleup x}$ and what do you observe?"
   ]
  },
  {
   "cell_type": "code",
   "execution_count": 3,
   "metadata": {},
   "outputs": [
    {
     "data": {
      "application/vnd.jupyter.widget-view+json": {
       "model_id": "304a0d873bbf4e67b99bf55542b8190d",
       "version_major": 2,
       "version_minor": 0
      },
      "text/html": [
       "<p>Failed to display Jupyter Widget of type <code>interactive</code>.</p>\n",
       "<p>\n",
       "  If you're reading this message in the Jupyter Notebook or JupyterLab Notebook, it may mean\n",
       "  that the widgets JavaScript is still loading. If this message persists, it\n",
       "  likely means that the widgets JavaScript library is either not installed or\n",
       "  not enabled. See the <a href=\"https://ipywidgets.readthedocs.io/en/stable/user_install.html\">Jupyter\n",
       "  Widgets Documentation</a> for setup instructions.\n",
       "</p>\n",
       "<p>\n",
       "  If you're reading this message in another frontend (for example, a static\n",
       "  rendering on GitHub or <a href=\"https://nbviewer.jupyter.org/\">NBViewer</a>),\n",
       "  it may mean that your frontend doesn't currently support widgets.\n",
       "</p>\n"
      ],
      "text/plain": [
       "interactive(children=(FloatSlider(value=0.0, continuous_update=False, description='slope', max=10.0, min=-10.0, step=0.5), FloatSlider(value=1.0, continuous_update=False, description='delta_x', max=10.0, min=-10.0, step=0.5), Output()), _dom_classes=('widget-interact',))"
      ]
     },
     "metadata": {},
     "output_type": "display_data"
    },
    {
     "data": {
      "text/plain": [
       "<function __main__.prove_line_has_constant_slope>"
      ]
     },
     "execution_count": 3,
     "metadata": {},
     "output_type": "execute_result"
    }
   ],
   "source": [
    "def prove_line_has_constant_slope(slope, delta_x):\n",
    "    x = np.linspace(-10, 10, 1000)\n",
    "    y = slope*x\n",
    "    plt.plot(x, y, 'g')\n",
    "    plt.scatter(0, 0, color='r')\n",
    "    plt.scatter(delta_x, slope*delta_x, color='b')\n",
    "    plt.title('A line')\n",
    "    plt.xlabel('X')\n",
    "    plt.ylabel('Y')\n",
    "    plt.axis('equal')\n",
    "    plt.grid()\n",
    "    text1 = r'$\\bigtriangleup x$ = %.1f' % delta_x\n",
    "    text2 = r'$\\bigtriangleup y$ = %.1f' % (slope*delta_x)\n",
    "    plt.text(-10, 5, text1, color='r', fontsize=14)\n",
    "    plt.text(-10, -5, text2, color='b', fontsize=14)\n",
    "\n",
    "interact(prove_line_has_constant_slope,\n",
    "        slope=widgets.FloatSlider(min=-10, max=10, step=0.5, value=0, continuous_update=False),\n",
    "        delta_x=widgets.FloatSlider(min=-10, max=10, step=0.5, value=1, continuous_update=False))"
   ]
  },
  {
   "cell_type": "markdown",
   "metadata": {},
   "source": [
    "Some more visual correlation of a line with its slope. Use the slider to change the slope. What do you observe?"
   ]
  },
  {
   "cell_type": "code",
   "execution_count": 4,
   "metadata": {},
   "outputs": [
    {
     "data": {
      "application/vnd.jupyter.widget-view+json": {
       "model_id": "037fb751f7c14ab9a6e915804c271b7c",
       "version_major": 2,
       "version_minor": 0
      },
      "text/html": [
       "<p>Failed to display Jupyter Widget of type <code>interactive</code>.</p>\n",
       "<p>\n",
       "  If you're reading this message in the Jupyter Notebook or JupyterLab Notebook, it may mean\n",
       "  that the widgets JavaScript is still loading. If this message persists, it\n",
       "  likely means that the widgets JavaScript library is either not installed or\n",
       "  not enabled. See the <a href=\"https://ipywidgets.readthedocs.io/en/stable/user_install.html\">Jupyter\n",
       "  Widgets Documentation</a> for setup instructions.\n",
       "</p>\n",
       "<p>\n",
       "  If you're reading this message in another frontend (for example, a static\n",
       "  rendering on GitHub or <a href=\"https://nbviewer.jupyter.org/\">NBViewer</a>),\n",
       "  it may mean that your frontend doesn't currently support widgets.\n",
       "</p>\n"
      ],
      "text/plain": [
       "interactive(children=(FloatSlider(value=0.0, continuous_update=False, description='slope', max=10.0, min=-10.0, step=0.5), Output()), _dom_classes=('widget-interact',))"
      ]
     },
     "metadata": {},
     "output_type": "display_data"
    },
    {
     "data": {
      "text/plain": [
       "<function __main__.plot_line_with_slope>"
      ]
     },
     "execution_count": 4,
     "metadata": {},
     "output_type": "execute_result"
    }
   ],
   "source": [
    "def plot_line_with_slope(slope):\n",
    "    x = np.linspace(-10, 10, 1000)\n",
    "    y = slope*x\n",
    "    plt.plot(x, y)\n",
    "    plt.title('A line with slope %d' % slope)\n",
    "    plt.xlabel('X')\n",
    "    plt.ylabel('Y')\n",
    "    plt.axis('equal')\n",
    "    plt.grid()\n",
    "    text = 'The value at x = 5 is %.2f' % (5*slope)\n",
    "    plt.text(-10, 5, text, color='r', fontsize=14)\n",
    "\n",
    "interact(plot_line_with_slope,\n",
    "            slope=widgets.FloatSlider(min=-10, max=10, step=0.5, value=0, continuous_update=False))"
   ]
  },
  {
   "cell_type": "code",
   "execution_count": 5,
   "metadata": {},
   "outputs": [
    {
     "data": {
      "application/vnd.jupyter.widget-view+json": {
       "model_id": "087262d8ac19475f9d7efd146178e783",
       "version_major": 2,
       "version_minor": 0
      },
      "text/html": [
       "<p>Failed to display Jupyter Widget of type <code>interactive</code>.</p>\n",
       "<p>\n",
       "  If you're reading this message in the Jupyter Notebook or JupyterLab Notebook, it may mean\n",
       "  that the widgets JavaScript is still loading. If this message persists, it\n",
       "  likely means that the widgets JavaScript library is either not installed or\n",
       "  not enabled. See the <a href=\"https://ipywidgets.readthedocs.io/en/stable/user_install.html\">Jupyter\n",
       "  Widgets Documentation</a> for setup instructions.\n",
       "</p>\n",
       "<p>\n",
       "  If you're reading this message in another frontend (for example, a static\n",
       "  rendering on GitHub or <a href=\"https://nbviewer.jupyter.org/\">NBViewer</a>),\n",
       "  it may mean that your frontend doesn't currently support widgets.\n",
       "</p>\n"
      ],
      "text/plain": [
       "interactive(children=(FloatSlider(value=0.0, continuous_update=False, description='tangent_at', max=10.0, min=-10.0, step=0.5), Output()), _dom_classes=('widget-interact',))"
      ]
     },
     "metadata": {},
     "output_type": "display_data"
    },
    {
     "data": {
      "text/plain": [
       "<function __main__.plot_tangent_of_bendy_curve>"
      ]
     },
     "execution_count": 5,
     "metadata": {},
     "output_type": "execute_result"
    }
   ],
   "source": [
    "def plot_tangent_of_bendy_curve(tangent_at):\n",
    "    x = np.linspace(-10, 10, 1000)\n",
    "    plt.plot(x, x**2)\n",
    "    plt.title('Function y=x^2 with tangent at %.2f' % tangent_at)\n",
    "    y_tangent = 2*(tangent_at)*x - tangent_at**2\n",
    "    plt.scatter(tangent_at, tangent_at**2)\n",
    "    plt.plot(x, y_tangent, '--')\n",
    "    plt.xlabel('X')\n",
    "    plt.ylabel('Y')\n",
    "    plt.ylim([-40, 101])\n",
    "    plt.grid()\n",
    "    \n",
    "    # text = 'The value at x = 5 is %f' % 5*slope\n",
    "    # plt.text(0, 5, text, color='r', fontsize=14)\n",
    "\n",
    "interact(plot_tangent_of_bendy_curve,\n",
    "            tangent_at=widgets.FloatSlider(min=-10, max=10, step=0.5, value=0, continuous_update=False))"
   ]
  },
  {
   "cell_type": "code",
   "execution_count": 6,
   "metadata": {
    "colab": {
     "autoexec": {
      "startup": false,
      "wait_interval": 0
     },
     "base_uri": "https://localhost:8080/",
     "height": 297
    },
    "colab_type": "code",
    "executionInfo": {
     "elapsed": 153,
     "status": "ok",
     "timestamp": 1530236395283,
     "user": {
      "displayName": "Kaushik Kulkarni",
      "photoUrl": "//lh6.googleusercontent.com/-AU9peswjN90/AAAAAAAAAAI/AAAAAAAAATE/OUFBN8TsWfE/s50-c-k-no/photo.jpg",
      "userId": "100643650829917345128"
     },
     "user_tz": 300
    },
    "id": "FjVRA9-MKQK0",
    "outputId": "5be0aed1-6e3a-4181-9e91-1efc146e4885"
   },
   "outputs": [
    {
     "data": {
      "application/vnd.jupyter.widget-view+json": {
       "model_id": "b0cdb04e653d4f77b5c169a56e90d9fe",
       "version_major": 2,
       "version_minor": 0
      },
      "text/html": [
       "<p>Failed to display Jupyter Widget of type <code>interactive</code>.</p>\n",
       "<p>\n",
       "  If you're reading this message in the Jupyter Notebook or JupyterLab Notebook, it may mean\n",
       "  that the widgets JavaScript is still loading. If this message persists, it\n",
       "  likely means that the widgets JavaScript library is either not installed or\n",
       "  not enabled. See the <a href=\"https://ipywidgets.readthedocs.io/en/stable/user_install.html\">Jupyter\n",
       "  Widgets Documentation</a> for setup instructions.\n",
       "</p>\n",
       "<p>\n",
       "  If you're reading this message in another frontend (for example, a static\n",
       "  rendering on GitHub or <a href=\"https://nbviewer.jupyter.org/\">NBViewer</a>),\n",
       "  it may mean that your frontend doesn't currently support widgets.\n",
       "</p>\n"
      ],
      "text/plain": [
       "interactive(children=(IntSlider(value=5, description='num_of_points', min=3), Output()), _dom_classes=('widget-interact',))"
      ]
     },
     "metadata": {},
     "output_type": "display_data"
    },
    {
     "data": {
      "text/plain": [
       "<function __main__.computational_domain>"
      ]
     },
     "execution_count": 6,
     "metadata": {},
     "output_type": "execute_result"
    }
   ],
   "source": [
    "def computational_domain(num_of_points):\n",
    "  x_exact = np.linspace(0, 0.5*np.pi, 1000)\n",
    "  y_exact = np.sin(x_exact)\n",
    "  x_approx = np.linspace(0, 0.5*np.pi, num_of_points)\n",
    "  y_approx = np.sin(x_approx)\n",
    "\n",
    "  f, axarr = plt.subplots(2, sharex=True, sharey=True)\n",
    "  axarr[0].plot(x_exact, y_exact)\n",
    "  axarr[0].set_title('Exact solution')\n",
    "  axarr[1].plot(x_approx, y_approx, 'o', markersize=4)\n",
    "  axarr[1].set_title('Approximate solution with %d points' % num_of_points )\n",
    " \n",
    "\n",
    "interact(computational_domain,\n",
    "            num_of_points=widgets.IntSlider(min=3, max=100, step=1, value=5))\n",
    "\n"
   ]
  },
  {
   "cell_type": "markdown",
   "metadata": {},
   "source": [
    "As we saw computing slope of a bendy curve is a challenging task. How can we make it easy? \n",
    "\n",
    "Simple, just divide the curve into smaller parts and then make them lines and copmute the slope using those lines."
   ]
  },
  {
   "cell_type": "code",
   "execution_count": 7,
   "metadata": {},
   "outputs": [
    {
     "data": {
      "application/vnd.jupyter.widget-view+json": {
       "model_id": "14b2402424b84b868e8d2b250adc09ee",
       "version_major": 2,
       "version_minor": 0
      },
      "text/html": [
       "<p>Failed to display Jupyter Widget of type <code>interactive</code>.</p>\n",
       "<p>\n",
       "  If you're reading this message in the Jupyter Notebook or JupyterLab Notebook, it may mean\n",
       "  that the widgets JavaScript is still loading. If this message persists, it\n",
       "  likely means that the widgets JavaScript library is either not installed or\n",
       "  not enabled. See the <a href=\"https://ipywidgets.readthedocs.io/en/stable/user_install.html\">Jupyter\n",
       "  Widgets Documentation</a> for setup instructions.\n",
       "</p>\n",
       "<p>\n",
       "  If you're reading this message in another frontend (for example, a static\n",
       "  rendering on GitHub or <a href=\"https://nbviewer.jupyter.org/\">NBViewer</a>),\n",
       "  it may mean that your frontend doesn't currently support widgets.\n",
       "</p>\n"
      ],
      "text/plain": [
       "interactive(children=(IntSlider(value=5, continuous_update=False, description='num_of_points', max=15, min=3), Output()), _dom_classes=('widget-interact',))"
      ]
     },
     "metadata": {},
     "output_type": "display_data"
    },
    {
     "data": {
      "text/plain": [
       "<function __main__.computational_domain_with_line>"
      ]
     },
     "execution_count": 7,
     "metadata": {},
     "output_type": "execute_result"
    }
   ],
   "source": [
    "def computational_domain_with_line(num_of_points):\n",
    "  x_exact = np.linspace(0, 0.5*np.pi, 1000)\n",
    "  y_exact = np.sin(2*x_exact)\n",
    "  x_approx = np.linspace(0, 0.5*np.pi, num_of_points)\n",
    "  y_approx = np.sin(2*x_approx)\n",
    "\n",
    "  f, axarr = plt.subplots(2, sharex=True, sharey=True)\n",
    "  axarr[0].plot(x_exact, y_exact)\n",
    "  axarr[0].set_title('Exact solution')\n",
    "  axarr[1].plot(x_approx, y_approx, '-o', markersize=7)\n",
    "  axarr[1].set_title('Approximate solution with %d points' % num_of_points )\n",
    " \n",
    "\n",
    "interact(computational_domain_with_line,\n",
    "            num_of_points=widgets.IntSlider(min=3, max=15, step=1, value=5, continuous_update=False))\n",
    "\n"
   ]
  },
  {
   "cell_type": "code",
   "execution_count": 8,
   "metadata": {},
   "outputs": [
    {
     "data": {
      "application/vnd.jupyter.widget-view+json": {
       "model_id": "958bdebb1610480c9e76d7264c869282",
       "version_major": 2,
       "version_minor": 0
      },
      "text/html": [
       "<p>Failed to display Jupyter Widget of type <code>interactive</code>.</p>\n",
       "<p>\n",
       "  If you're reading this message in the Jupyter Notebook or JupyterLab Notebook, it may mean\n",
       "  that the widgets JavaScript is still loading. If this message persists, it\n",
       "  likely means that the widgets JavaScript library is either not installed or\n",
       "  not enabled. See the <a href=\"https://ipywidgets.readthedocs.io/en/stable/user_install.html\">Jupyter\n",
       "  Widgets Documentation</a> for setup instructions.\n",
       "</p>\n",
       "<p>\n",
       "  If you're reading this message in another frontend (for example, a static\n",
       "  rendering on GitHub or <a href=\"https://nbviewer.jupyter.org/\">NBViewer</a>),\n",
       "  it may mean that your frontend doesn't currently support widgets.\n",
       "</p>\n"
      ],
      "text/plain": [
       "interactive(children=(FloatSlider(value=0.0, continuous_update=False, description='tangent_at', max=10.0, min=-10.0, step=0.5), IntSlider(value=0, continuous_update=False, description='tangent_on_which_curve', max=1), Output()), _dom_classes=('widget-interact',))"
      ]
     },
     "metadata": {},
     "output_type": "display_data"
    },
    {
     "data": {
      "text/plain": [
       "<function __main__.compare_bendiness>"
      ]
     },
     "execution_count": 8,
     "metadata": {},
     "output_type": "execute_result"
    }
   ],
   "source": [
    "def compare_bendiness(tangent_at, tangent_on_which_curve):  \n",
    "    x = np.linspace(-10, 10, 1000)\n",
    "    plt.plot(x, x**2)\n",
    "    plt.plot(x, 3*x**2)\n",
    "    plt.title('Function y=x^2 with tangent at %.2f' % tangent_at)\n",
    "\n",
    "    plt.xlabel('X')\n",
    "    plt.ylabel('Y')\n",
    "    plt.ylim([-40, 101])\n",
    "    # plt.axis('equal')\n",
    "    plt.grid()\n",
    "    \n",
    "    if tangent_on_which_curve:\n",
    "        y_tangent = 2*(tangent_at)*x - tangent_at**2\n",
    "        plt.scatter(tangent_at, tangent_at**2)\n",
    "        plt.plot(x, y_tangent, '--')\n",
    "        text = 'The slope at x = %f is %f' % (tangent_at, 2*tangent_at)\n",
    "    else:\n",
    "        y_tangent = 6*(tangent_at)*x - 3*tangent_at**2\n",
    "        plt.scatter(tangent_at, 3*tangent_at**2)\n",
    "        plt.plot(x, y_tangent, '--')\n",
    "        text = 'The slope at x = %f is %f' % (tangent_at, 6*tangent_at)\n",
    "    \n",
    "  \n",
    "    plt.text(-10, -20, text, color='r', fontsize=14)\n",
    "\n",
    "interact(compare_bendiness,\n",
    "         tangent_at=widgets.FloatSlider(min=-10, max=10, step=0.5, value=0, continuous_update=False),\n",
    "         tangent_on_which_curve=widgets.IntSlider(min=0, max=1, step=1, value=0, continuous_update=False))"
   ]
  },
  {
   "cell_type": "markdown",
   "metadata": {
    "colab_type": "text",
    "id": "DG8ZqL9hy-Ds"
   },
   "source": [
    "Ok, now you have learnt quite something about, solve the following activity. Go!\n",
    "\n",
    "The slider represent angle of the point from the x-axis. Play with the slider to find the 3rd point to make the bendiness of the curve 0.(Hint: You can get the answer without even )"
   ]
  },
  {
   "cell_type": "code",
   "execution_count": 9,
   "metadata": {
    "colab": {
     "autoexec": {
      "startup": false,
      "wait_interval": 0
     },
     "base_uri": "https://localhost:8080/",
     "height": 212
    },
    "colab_type": "code",
    "executionInfo": {
     "elapsed": 10884,
     "status": "error",
     "timestamp": 1530245781676,
     "user": {
      "displayName": "Andreas Klöckner",
      "photoUrl": "//lh4.googleusercontent.com/-zL-l2ojVD3Y/AAAAAAAAAAI/AAAAAAAAADU/xTRtz-YgTMo/s50-c-k-no/photo.jpg",
      "userId": "117997603829991809307"
     },
     "user_tz": 300
    },
    "id": "E9xliAituRne",
    "outputId": "b23d5517-0564-4ba5-ea18-33574c5c9b9a"
   },
   "outputs": [
    {
     "data": {
      "application/vnd.jupyter.widget-view+json": {
       "model_id": "333a54df45a94408be022eae5804d05e",
       "version_major": 2,
       "version_minor": 0
      },
      "text/html": [
       "<p>Failed to display Jupyter Widget of type <code>interactive</code>.</p>\n",
       "<p>\n",
       "  If you're reading this message in the Jupyter Notebook or JupyterLab Notebook, it may mean\n",
       "  that the widgets JavaScript is still loading. If this message persists, it\n",
       "  likely means that the widgets JavaScript library is either not installed or\n",
       "  not enabled. See the <a href=\"https://ipywidgets.readthedocs.io/en/stable/user_install.html\">Jupyter\n",
       "  Widgets Documentation</a> for setup instructions.\n",
       "</p>\n",
       "<p>\n",
       "  If you're reading this message in another frontend (for example, a static\n",
       "  rendering on GitHub or <a href=\"https://nbviewer.jupyter.org/\">NBViewer</a>),\n",
       "  it may mean that your frontend doesn't currently support widgets.\n",
       "</p>\n"
      ],
      "text/plain": [
       "interactive(children=(FloatSlider(value=10.0, continuous_update=False, description='y_3', max=10.0, min=-10.0, step=0.25), Output()), _dom_classes=('widget-interact',))"
      ]
     },
     "metadata": {},
     "output_type": "display_data"
    },
    {
     "data": {
      "text/plain": [
       "<function __main__.bendiness_color>"
      ]
     },
     "execution_count": 9,
     "metadata": {},
     "output_type": "execute_result"
    }
   ],
   "source": [
    "def bendiness_color(y_3):\n",
    "  x_1 = 0\n",
    "  x_2 = 1\n",
    "  x_3 = 2\n",
    "  \n",
    "  y_1 = 1\n",
    "  y_2 = 2\n",
    "  \n",
    "  bendiness = (y_3 - 2*y_2+ y_1)/(1*1)\n",
    "  \n",
    "  if bendiness < -1e-15:\n",
    "    color = 'r'\n",
    "    text = 'The bediness is negative with value %f' % bendiness\n",
    "  elif bendiness > 1e-15:\n",
    "    color = 'r'\n",
    "    text = 'The bediness is positive with value %f' % bendiness\n",
    "  else:\n",
    "    color='g'\n",
    "    text = 'Well done!'\n",
    "    \n",
    "  p = np.polyfit([x_1, x_2, x_3], [y_1, y_2, y_3], 2)\n",
    "  x = np.linspace(0, 2, 100)\n",
    "  y = p[0]*x**2 + p[1]*x + p[2]\n",
    "  \n",
    "  plt.plot([x_1, x_2, x_3], [y_1, y_2, y_3], 'o-', color=color)\n",
    "  plt.plot(x, y, '--', color='k')\n",
    "  plt.text(0.5, 2.25, text, color=color, fontsize=14)\n",
    "\n",
    "interact(bendiness_color,\n",
    "            y_3=widgets.FloatSlider(min=-10, max=10, step=0.25, value=15, continuous_update=False))"
   ]
  },
  {
   "cell_type": "code",
   "execution_count": null,
   "metadata": {},
   "outputs": [],
   "source": []
  }
 ],
 "metadata": {
  "colab": {
   "collapsed_sections": [],
   "default_view": {},
   "name": "MSTEBendiness.ipynb",
   "provenance": [],
   "version": "0.3.2",
   "views": {}
  },
  "kernelspec": {
   "display_name": "Python 3",
   "language": "python",
   "name": "python3"
  },
  "language_info": {
   "codemirror_mode": {
    "name": "ipython",
    "version": 3
   },
   "file_extension": ".py",
   "mimetype": "text/x-python",
   "name": "python",
   "nbconvert_exporter": "python",
   "pygments_lexer": "ipython3",
   "version": "3.6.3"
  }
 },
 "nbformat": 4,
 "nbformat_minor": 1
}
