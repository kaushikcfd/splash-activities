{
 "cells": [
  {
   "cell_type": "code",
   "execution_count": 1,
   "metadata": {
    "colab": {
     "autoexec": {
      "startup": false,
      "wait_interval": 0
     },
     "base_uri": "https://localhost:8080/",
     "height": 346
    },
    "colab_type": "code",
    "executionInfo": {
     "elapsed": 513,
     "status": "error",
     "timestamp": 1530245810986,
     "user": {
      "displayName": "Andreas Klöckner",
      "photoUrl": "//lh4.googleusercontent.com/-zL-l2ojVD3Y/AAAAAAAAAAI/AAAAAAAAADU/xTRtz-YgTMo/s50-c-k-no/photo.jpg",
      "userId": "117997603829991809307"
     },
     "user_tz": 300
    },
    "id": "sPcEPlxKt8g1",
    "outputId": "0185d7ea-2346-49da-c0a8-f31c64aa28e5"
   },
   "outputs": [],
   "source": [
    "import numpy as np\n",
    "import matplotlib.pyplot as plt\n",
    "from matplotlib.text import Annotation\n",
    "from matplotlib import animation\n",
    "%matplotlib inline\n",
    "from ipywidgets import interact, interactive, fixed, interact_manual\n",
    "import ipywidgets as widgets"
   ]
  },
  {
   "cell_type": "markdown",
   "metadata": {
    "colab_type": "text",
    "id": "p_Wukj_N9NU3"
   },
   "source": [
    "## Overview\n",
    "\n",
    "- This is a small primer to get familiiar with the concept of \"bendiness\".\n",
    "- First, we go through the slopeness property of a curve.\n",
    "- Then we see how bendiness is related to the slopeness.\n",
    "- Then we will have a look at why bendiness is so important.\n",
    "- Then we will do a  small activity to get a brief feeling of the quantitative value of bendiness of a function.\n"
   ]
  },
  {
   "cell_type": "markdown",
   "metadata": {},
   "source": [
    "(NEW SECTION)\n",
    "\n",
    "# What is slopeness?\n",
    "\n",
    "Let's learn about the slope of a line. The slope of a line is an indicator of how fast/slow a curve increases.\n",
    "\n",
    "\n",
    "To quantify it we choose 2 points on the curve, let those would be $(x_1, y_1)$ and $(x_2, y_2)$, we define the slope as \n",
    "$$\\text{slope} = \\frac{y_2-y_1}{x_2-x_1}$$.\n",
    "\n",
    "The section ahead tries to convince you that the slope of a line is constant. Also, calculate the slope of the line.\n",
    "\n"
   ]
  },
  {
   "cell_type": "code",
   "execution_count": 26,
   "metadata": {},
   "outputs": [
    {
     "data": {
      "application/vnd.jupyter.widget-view+json": {
       "model_id": "ecf11f4d1824459aae65eaa370d83777",
       "version_major": 2,
       "version_minor": 0
      },
      "text/html": [
       "<p>Failed to display Jupyter Widget of type <code>interactive</code>.</p>\n",
       "<p>\n",
       "  If you're reading this message in the Jupyter Notebook or JupyterLab Notebook, it may mean\n",
       "  that the widgets JavaScript is still loading. If this message persists, it\n",
       "  likely means that the widgets JavaScript library is either not installed or\n",
       "  not enabled. See the <a href=\"https://ipywidgets.readthedocs.io/en/stable/user_install.html\">Jupyter\n",
       "  Widgets Documentation</a> for setup instructions.\n",
       "</p>\n",
       "<p>\n",
       "  If you're reading this message in another frontend (for example, a static\n",
       "  rendering on GitHub or <a href=\"https://nbviewer.jupyter.org/\">NBViewer</a>),\n",
       "  it may mean that your frontend doesn't currently support widgets.\n",
       "</p>\n"
      ],
      "text/plain": [
       "interactive(children=(FloatSlider(value=0.0, description='x_red', max=10.0, min=-10.0, step=0.5), FloatSlider(value=1.0, description='x_blue', max=10.0, min=-10.0, step=0.5), Output()), _dom_classes=('widget-interact',))"
      ]
     },
     "metadata": {},
     "output_type": "display_data"
    },
    {
     "data": {
      "text/plain": [
       "<function __main__.prove_line_has_constant_slope>"
      ]
     },
     "execution_count": 26,
     "metadata": {},
     "output_type": "execute_result"
    }
   ],
   "source": [
    "# (NEW SECTION)\n",
    "\n",
    "def prove_line_has_constant_slope(x_red, x_blue):\n",
    "    x = np.linspace(-10, 10, 1000)\n",
    "    y = 3*x\n",
    "    plt.plot(x, y, 'g')\n",
    "    plt.scatter(x_red, 3*x_red, color='r')\n",
    "    plt.scatter(x_blue, 3*x_blue, color='b')\n",
    "    plt.title('A line.')\n",
    "    plt.xlabel('X')\n",
    "    plt.ylabel('Y')\n",
    "    plt.axis('equal')\n",
    "    plt.grid()\n",
    "    plt.ylim([-32, 40])\n",
    "    text1 = 'The value at x = %f is %f' % (x_red, 3*x_red)\n",
    "    text2 = 'The value at x = %f is %f' % (x_blue, 3*x_blue)\n",
    "    plt.text(-40, 35, text1, color='r', fontsize=14)\n",
    "    plt.text(-40, 30, text2, color='b', fontsize=14)\n",
    "\n",
    "interact(prove_line_has_constant_slope,\n",
    "        x_red=widgets.FloatSlider(min=-10, max=10, step=0.5, value=0),\n",
    "        x_blue=widgets.FloatSlider(min=-10, max=10, step=0.5, value=1))"
   ]
  },
  {
   "cell_type": "markdown",
   "metadata": {},
   "source": [
    "The aim of the activity is to get a qualitative feel of what slope of a line is. The slider represents the slope of the line."
   ]
  },
  {
   "cell_type": "code",
   "execution_count": 24,
   "metadata": {},
   "outputs": [
    {
     "data": {
      "application/vnd.jupyter.widget-view+json": {
       "model_id": "0ef3402b51e049e3af74a357c41f1c9a",
       "version_major": 2,
       "version_minor": 0
      },
      "text/html": [
       "<p>Failed to display Jupyter Widget of type <code>interactive</code>.</p>\n",
       "<p>\n",
       "  If you're reading this message in the Jupyter Notebook or JupyterLab Notebook, it may mean\n",
       "  that the widgets JavaScript is still loading. If this message persists, it\n",
       "  likely means that the widgets JavaScript library is either not installed or\n",
       "  not enabled. See the <a href=\"https://ipywidgets.readthedocs.io/en/stable/user_install.html\">Jupyter\n",
       "  Widgets Documentation</a> for setup instructions.\n",
       "</p>\n",
       "<p>\n",
       "  If you're reading this message in another frontend (for example, a static\n",
       "  rendering on GitHub or <a href=\"https://nbviewer.jupyter.org/\">NBViewer</a>),\n",
       "  it may mean that your frontend doesn't currently support widgets.\n",
       "</p>\n"
      ],
      "text/plain": [
       "interactive(children=(FloatSlider(value=0.0, description='slope', max=10.0, min=-10.0, step=0.5), Output()), _dom_classes=('widget-interact',))"
      ]
     },
     "metadata": {},
     "output_type": "display_data"
    },
    {
     "data": {
      "text/plain": [
       "<function __main__.plot_line_with_slope>"
      ]
     },
     "execution_count": 24,
     "metadata": {},
     "output_type": "execute_result"
    }
   ],
   "source": [
    "# (NEW SECTION)\n",
    "\n",
    "def plot_line_with_slope(slope):\n",
    "    x = np.linspace(-10, 10, 1000)\n",
    "    y = slope*x\n",
    "    plt.plot(x, y)\n",
    "    plt.title('A line with slope %d' % slope)\n",
    "    plt.xlabel('X')\n",
    "    plt.ylabel('Y')\n",
    "    plt.axis('equal')\n",
    "    plt.grid()\n",
    "    text = 'The value at x = 5 is %.2f' % (5*slope)\n",
    "    plt.text(-10, 5, text, color='r', fontsize=14)\n",
    "\n",
    "interact(plot_line_with_slope,\n",
    "            slope=widgets.FloatSlider(min=-10, max=10, step=0.5, value=0))"
   ]
  },
  {
   "cell_type": "markdown",
   "metadata": {},
   "source": [
    "(NEW SECTION)\n",
    "\n",
    "What are the lessons learnt from the above activity:\n",
    "\n",
    "1. As the slope of the line increases the value at x=5 increases.\n",
    "2. When slope=0 the line is horizontal.\n",
    "3. When the slope takes very high values or very low values, the line is vertical.(In fact when the slope is $\\pm\\infty$ the line is exactly vertical!)\n"
   ]
  },
  {
   "cell_type": "markdown",
   "metadata": {},
   "source": [
    "(NEW SECTION)\n",
    "\n",
    "# Bendy curves\n",
    "\n",
    "The curves in the previous section shared a common property i.e. they all were lines and for a line the slope is constant for all points on the curve.\n",
    "\n",
    "But what happens if the curve we are dealing with is not a line, what if the curve is \"bendy\"?\n",
    "In that case, the slope of the curve also varies with $x$. Hence we say the slope will be a function of $x$.\n",
    "\n",
    "## We learnt that for a bendy curve the slope varies with $x$-axis, but how do we measure the slope for such curves?\n",
    "\n",
    "For a given $x$ on a bendy curve we draw a tangent line at that point, and take the slope of the tangent line to be the slope of the curve at the required point. The activity below demonstrates that:\n"
   ]
  },
  {
   "cell_type": "code",
   "execution_count": 3,
   "metadata": {},
   "outputs": [
    {
     "data": {
      "application/vnd.jupyter.widget-view+json": {
       "model_id": "d6907fcd023547f8bc4d61c696df1801",
       "version_major": 2,
       "version_minor": 0
      },
      "text/html": [
       "<p>Failed to display Jupyter Widget of type <code>interactive</code>.</p>\n",
       "<p>\n",
       "  If you're reading this message in the Jupyter Notebook or JupyterLab Notebook, it may mean\n",
       "  that the widgets JavaScript is still loading. If this message persists, it\n",
       "  likely means that the widgets JavaScript library is either not installed or\n",
       "  not enabled. See the <a href=\"https://ipywidgets.readthedocs.io/en/stable/user_install.html\">Jupyter\n",
       "  Widgets Documentation</a> for setup instructions.\n",
       "</p>\n",
       "<p>\n",
       "  If you're reading this message in another frontend (for example, a static\n",
       "  rendering on GitHub or <a href=\"https://nbviewer.jupyter.org/\">NBViewer</a>),\n",
       "  it may mean that your frontend doesn't currently support widgets.\n",
       "</p>\n"
      ],
      "text/plain": [
       "interactive(children=(FloatSlider(value=0.0, description='tangent_at', max=10.0, min=-10.0, step=0.5), Output()), _dom_classes=('widget-interact',))"
      ]
     },
     "metadata": {},
     "output_type": "display_data"
    },
    {
     "data": {
      "text/plain": [
       "<function __main__.plot_tangent_of_bendy_curve>"
      ]
     },
     "execution_count": 3,
     "metadata": {},
     "output_type": "execute_result"
    }
   ],
   "source": [
    "# (NEW SECTION)\n",
    "\n",
    "def plot_tangent_of_bendy_curve(tangent_at):\n",
    "    x = np.linspace(-10, 10, 1000)\n",
    "    plt.plot(x, x**2)\n",
    "    plt.title('Function y=x^2 with tangent at %.2f' % tangent_at)\n",
    "    y_tangent = 2*(tangent_at)*x - tangent_at**2\n",
    "    plt.scatter(tangent_at, tangent_at**2)\n",
    "    plt.plot(x, y_tangent, '--')\n",
    "    plt.xlabel('X')\n",
    "    plt.ylabel('Y')\n",
    "    plt.ylim([-40, 101])\n",
    "    plt.grid()\n",
    "    \n",
    "    # text = 'The value at x = 5 is %f' % 5*slope\n",
    "    # plt.text(0, 5, text, color='r', fontsize=14)\n",
    "\n",
    "interact(plot_tangent_of_bendy_curve,\n",
    "            tangent_at=widgets.FloatSlider(min=-10, max=10, step=0.5, value=0))"
   ]
  },
  {
   "cell_type": "markdown",
   "metadata": {},
   "source": [
    "(NEW SECTION)\n",
    "\n",
    "Lessons learned:\n",
    "- Bendy curves, unlike straight lines have varying slopes.\n"
   ]
  },
  {
   "cell_type": "markdown",
   "metadata": {},
   "source": [
    "#  Bendiness\n",
    "\n",
    "Bendiness is the slope of the slope. This is the quantity which measures how fast does the slope of a curve vary.\n",
    "\n",
    "Below is a small activity to compute the slope of the slope of a curve, which would qunatify the bendiness of a curve."
   ]
  },
  {
   "cell_type": "code",
   "execution_count": 10,
   "metadata": {},
   "outputs": [
    {
     "data": {
      "application/vnd.jupyter.widget-view+json": {
       "model_id": "09011ebc77f64ad7a93c97f478306f9b",
       "version_major": 2,
       "version_minor": 0
      },
      "text/html": [
       "<p>Failed to display Jupyter Widget of type <code>interactive</code>.</p>\n",
       "<p>\n",
       "  If you're reading this message in the Jupyter Notebook or JupyterLab Notebook, it may mean\n",
       "  that the widgets JavaScript is still loading. If this message persists, it\n",
       "  likely means that the widgets JavaScript library is either not installed or\n",
       "  not enabled. See the <a href=\"https://ipywidgets.readthedocs.io/en/stable/user_install.html\">Jupyter\n",
       "  Widgets Documentation</a> for setup instructions.\n",
       "</p>\n",
       "<p>\n",
       "  If you're reading this message in another frontend (for example, a static\n",
       "  rendering on GitHub or <a href=\"https://nbviewer.jupyter.org/\">NBViewer</a>),\n",
       "  it may mean that your frontend doesn't currently support widgets.\n",
       "</p>\n"
      ],
      "text/plain": [
       "interactive(children=(FloatSlider(value=0.0, description='tangent_at', max=10.0, min=-10.0, step=0.5), IntSlider(value=0, description='tangent_on_which_curve', max=1), Output()), _dom_classes=('widget-interact',))"
      ]
     },
     "metadata": {},
     "output_type": "display_data"
    },
    {
     "data": {
      "text/plain": [
       "<function __main__.compare_bendiness>"
      ]
     },
     "execution_count": 10,
     "metadata": {},
     "output_type": "execute_result"
    }
   ],
   "source": [
    "def compare_bendiness(tangent_at, tangent_on_which_curve):  \n",
    "    x = np.linspace(-10, 10, 1000)\n",
    "    plt.plot(x, x**2)\n",
    "    plt.plot(x, 3*x**2)\n",
    "    plt.title('Function y=x^2 with tangent at %.2f' % tangent_at)\n",
    "\n",
    "    plt.xlabel('X')\n",
    "    plt.ylabel('Y')\n",
    "    plt.ylim([-40, 101])\n",
    "    # plt.axis('equal')\n",
    "    plt.grid()\n",
    "    \n",
    "    if tangent_on_which_curve:\n",
    "        y_tangent = 2*(tangent_at)*x - tangent_at**2\n",
    "        plt.scatter(tangent_at, tangent_at**2)\n",
    "        plt.plot(x, y_tangent, '--')\n",
    "        text = 'The slope at x = %f is %f' % (tangent_at, 2*tangent_at)\n",
    "    else:\n",
    "        y_tangent = 6*(tangent_at)*x - 3*tangent_at**2\n",
    "        plt.scatter(tangent_at, 3*tangent_at**2)\n",
    "        plt.plot(x, y_tangent, '--')\n",
    "        text = 'The slope at x = %f is %f' % (tangent_at, 6*tangent_at)\n",
    "    \n",
    "  \n",
    "    plt.text(-10, -20, text, color='r', fontsize=14)\n",
    "\n",
    "interact(compare_bendiness,\n",
    "         tangent_at=widgets.FloatSlider(min=-10, max=10, step=0.5, value=0),\n",
    "         tangent_on_which_curve=widgets.IntSlider(min=0, max=1, step=1, value=0))"
   ]
  },
  {
   "cell_type": "markdown",
   "metadata": {},
   "source": [
    "- Q. Could you have predicted the more \"bendy\" curve just by looking at the curve."
   ]
  },
  {
   "cell_type": "markdown",
   "metadata": {},
   "source": [
    "# Everything is unchanged after this."
   ]
  },
  {
   "cell_type": "markdown",
   "metadata": {
    "colab_type": "text",
    "id": "uGkNi9XzAWgu"
   },
   "source": [
    "## Why is bendiness so important?\n",
    "\n",
    "- Most of the materials seen in nature have an inherent property that they would want to get rid of any \"extra-bendiness\" in them.\n",
    "- For example, try giving a slight bend to a steel rod. You could observe that it would make it want to  spring back in the opposite direction.\n",
    "- The same phenomenon is observed in waves, fluids and many more physical phenomena.\n",
    "\n",
    "Having such a close relationship with the physics of the nature makes it mandatory for applied mathematicians to study more about this \"bendiness\" property.\n",
    "\n",
    "Note: When speaking of derivatives (or changes) it is very important to note the term with respect to which we are taking the derivatives. If in the above cases, instead of taking the derivatives over 'X' we take the derivatives over time, then the physical quantity which we would be discussing would be very different.\n",
    "- The first derivative of the property wrt time would denote the rate(Velocity) and the second derivative would denote the rate of rates(Acceleration)."
   ]
  },
  {
   "cell_type": "markdown",
   "metadata": {
    "colab_type": "text",
    "id": "qTszQyBHO-Sr"
   },
   "source": [
    "## Waves and bendiness\n",
    "\n",
    "We can classify mechanical waves into 2 types depending on the motion of the particles which are involved in \n",
    "\n",
    "1. Transverse waves: The waves in which the motion of the particle is perpendicular to the motion of the wave. Eg. Waves on a string\n",
    "2. Longitudnal waves: The waves in which the motion of the particle is parallel to the motion of the wave. Eg. Sound wave\n",
    "\n",
    "(Do we need to deal with this section more deeply, some animation?)\n",
    "\n",
    "In these set of activities we will deal with transverse waves.\n",
    "\n",
    "During the early 18th century, physicists had established that the \"_restoring force acting on particles on a wave is proportional to the negative of its bendiness of the wave._\""
   ]
  },
  {
   "cell_type": "markdown",
   "metadata": {
    "colab_type": "text",
    "id": "wfUu96SUOhuR"
   },
   "source": [
    "## A Computer scientist's way of looking at mathematics\n",
    "\n",
    "The most important problems in mathematics involve solving an equation. A simpler version of these types of problem is:\n",
    "\n",
    "$$3x=6$$ and its solution being $$x=2$$\n",
    "\n",
    "A computer scientist for most of the time would be intereseted to find an \"approximate solution\" to a given mathematical equation. For example for the above equation a computer scientist would be well satisfied with the solution $$x=2.000000000001$$\n"
   ]
  },
  {
   "cell_type": "markdown",
   "metadata": {
    "colab_type": "text",
    "id": "TSgsZ2UcD63t"
   },
   "source": [
    "## Waves and Mathematical equation\n",
    "\n",
    "\n",
    "Similarl to the above equation, a \"wave problem\" would involve us having to find the \"shape\" of the wave at every time instant.\n",
    "\n",
    "To represent the shape in the form of a mathematical expression we would have to first agree on a quantity that would represent the shape of a wave.\n",
    "\n",
    "For a wave on a string this quanity could be taken as a the displacement of a part of the string from a mean position. Hence, for a wave on a string the problem we would solve would be to find the displacement of the string for every point along its length.\n",
    "\n",
    "_(A figure with this idea is needed, couldn't find one with an CC license, maybe need to make my own?)_"
   ]
  },
  {
   "cell_type": "markdown",
   "metadata": {
    "colab_type": "text",
    "id": "e5BGIvGsHjSw"
   },
   "source": [
    "## Approximate solution\n",
    "\n",
    "As we had discussed we need the displacement of the string across its length. The actual solution would involve finding the displacement value at every point on the string, and that would mean we would need to calculate the solution at infinite number of points.\n",
    "\n",
    "But, to make our life easier we would cheat and find an approximate solution. In this case we would cheat by calculating the solution only at a limited number of points, so that we could capture enough information about this solution. Hence we generate an approximate solution by \"reducing\" the domain on which we calculate the solution.\n",
    "\n",
    "One might nore that this type of appromximate is quantity with discrete set of points is very pervalent in computer science. Some examples being \n",
    "- images: captures the colors at a finite number of points sufficient enough to be representative of the actual image.\n",
    "- videos: captures images at only a finite number of time instant sufficient enought in order to be representative of a dynamic phenomenon.\n",
    "\n",
    "The activity below would help you in deepening your understanding about why calculating the solution only at a finite number of points is enough to capture the shape of the wave.\n",
    "The slider represents the number of points we want to capture the solution at.\n"
   ]
  },
  {
   "cell_type": "code",
   "execution_count": 7,
   "metadata": {
    "colab": {
     "autoexec": {
      "startup": false,
      "wait_interval": 0
     },
     "base_uri": "https://localhost:8080/",
     "height": 297
    },
    "colab_type": "code",
    "executionInfo": {
     "elapsed": 153,
     "status": "ok",
     "timestamp": 1530236395283,
     "user": {
      "displayName": "Kaushik Kulkarni",
      "photoUrl": "//lh6.googleusercontent.com/-AU9peswjN90/AAAAAAAAAAI/AAAAAAAAATE/OUFBN8TsWfE/s50-c-k-no/photo.jpg",
      "userId": "100643650829917345128"
     },
     "user_tz": 300
    },
    "id": "FjVRA9-MKQK0",
    "outputId": "5be0aed1-6e3a-4181-9e91-1efc146e4885"
   },
   "outputs": [
    {
     "data": {
      "application/vnd.jupyter.widget-view+json": {
       "model_id": "53f29b833e3f46bca428562030afa311",
       "version_major": 2,
       "version_minor": 0
      },
      "text/html": [
       "<p>Failed to display Jupyter Widget of type <code>interactive</code>.</p>\n",
       "<p>\n",
       "  If you're reading this message in the Jupyter Notebook or JupyterLab Notebook, it may mean\n",
       "  that the widgets JavaScript is still loading. If this message persists, it\n",
       "  likely means that the widgets JavaScript library is either not installed or\n",
       "  not enabled. See the <a href=\"https://ipywidgets.readthedocs.io/en/stable/user_install.html\">Jupyter\n",
       "  Widgets Documentation</a> for setup instructions.\n",
       "</p>\n",
       "<p>\n",
       "  If you're reading this message in another frontend (for example, a static\n",
       "  rendering on GitHub or <a href=\"https://nbviewer.jupyter.org/\">NBViewer</a>),\n",
       "  it may mean that your frontend doesn't currently support widgets.\n",
       "</p>\n"
      ],
      "text/plain": [
       "interactive(children=(IntSlider(value=5, description='num_of_points', min=3), Output()), _dom_classes=('widget-interact',))"
      ]
     },
     "metadata": {},
     "output_type": "display_data"
    },
    {
     "data": {
      "text/plain": [
       "<function __main__.computational_domain>"
      ]
     },
     "execution_count": 7,
     "metadata": {},
     "output_type": "execute_result"
    }
   ],
   "source": [
    "def computational_domain(num_of_points):\n",
    "  x_exact = np.linspace(0, 0.5*np.pi, 1000)\n",
    "  y_exact = np.sin(x_exact)\n",
    "  x_approx = np.linspace(0, 0.5*np.pi, num_of_points)\n",
    "  y_approx = np.sin(x_approx)\n",
    "\n",
    "  f, axarr = plt.subplots(2, sharex=True, sharey=True)\n",
    "  axarr[0].plot(x_exact, y_exact)\n",
    "  axarr[0].set_title('Exact solution')\n",
    "  axarr[1].plot(x_approx, y_approx, 'o', markersize=4)\n",
    "  axarr[1].set_title('Approximate solution with %d points' % num_of_points )\n",
    " \n",
    "\n",
    "interact(computational_domain,\n",
    "            num_of_points=widgets.IntSlider(min=3, max=100, step=1, value=5))\n",
    "\n"
   ]
  },
  {
   "cell_type": "markdown",
   "metadata": {
    "colab_type": "text",
    "id": "m38s-U_Soemq"
   },
   "source": [
    "## Computing the approximate slope\n",
    "\n",
    "Now that we have only a small number of points we can devise a different method of calculating the approximate slope.\n",
    "\n",
    "Mathematicians arrived at an approximate fomulation to a slope as:\n",
    "\n",
    "$$\\text{slope at } x_{i+\\frac{1}{2}}\\approx \\frac{y_{i+1}-y_i}{\\bigtriangleup x} $$"
   ]
  },
  {
   "cell_type": "markdown",
   "metadata": {
    "colab_type": "text",
    "id": "xEuqjU1EqmdI"
   },
   "source": [
    "## Computing the approximate Bendiness\n",
    "\n",
    "As explained earlier the bendiness is given by the slope of the slopes. Hence from the above formulation one can represet bendiness as:\n",
    "$$\\text{bendiness at } x_{i} \\approx \\frac{\\text{slope at }x_{i+\\frac{1}{2}}-\\text{slope at }x_{i-\\frac{1}{2}}}{\\bigtriangleup x}$$\n",
    "And hence, we would end up at\n",
    "\n",
    "$$\\text{bendiness at } x_{i} \\approx \\frac{y_{i+1}-2y_i +y_{i-1}}{\\bigtriangleup x^2}$$\n",
    "\n"
   ]
  },
  {
   "cell_type": "markdown",
   "metadata": {
    "colab_type": "text",
    "id": "DG8ZqL9hy-Ds"
   },
   "source": [
    "Ok, now you have learnt quite something about, solve the following activity. Go!\n",
    "\n",
    "The slider represent angle of the point from the x-axis. Play with the slider to find the 3rd point to make the bendiness of the curve 0.(Hint: You can get the answer without even )"
   ]
  },
  {
   "cell_type": "code",
   "execution_count": 10,
   "metadata": {
    "colab": {
     "autoexec": {
      "startup": false,
      "wait_interval": 0
     },
     "base_uri": "https://localhost:8080/",
     "height": 212
    },
    "colab_type": "code",
    "executionInfo": {
     "elapsed": 10884,
     "status": "error",
     "timestamp": 1530245781676,
     "user": {
      "displayName": "Andreas Klöckner",
      "photoUrl": "//lh4.googleusercontent.com/-zL-l2ojVD3Y/AAAAAAAAAAI/AAAAAAAAADU/xTRtz-YgTMo/s50-c-k-no/photo.jpg",
      "userId": "117997603829991809307"
     },
     "user_tz": 300
    },
    "id": "E9xliAituRne",
    "outputId": "b23d5517-0564-4ba5-ea18-33574c5c9b9a"
   },
   "outputs": [
    {
     "data": {
      "application/vnd.jupyter.widget-view+json": {
       "model_id": "5c78c9a3facc47a4a9fad79ccbe578dc",
       "version_major": 2,
       "version_minor": 0
      },
      "text/html": [
       "<p>Failed to display Jupyter Widget of type <code>interactive</code>.</p>\n",
       "<p>\n",
       "  If you're reading this message in the Jupyter Notebook or JupyterLab Notebook, it may mean\n",
       "  that the widgets JavaScript is still loading. If this message persists, it\n",
       "  likely means that the widgets JavaScript library is either not installed or\n",
       "  not enabled. See the <a href=\"https://ipywidgets.readthedocs.io/en/stable/user_install.html\">Jupyter\n",
       "  Widgets Documentation</a> for setup instructions.\n",
       "</p>\n",
       "<p>\n",
       "  If you're reading this message in another frontend (for example, a static\n",
       "  rendering on GitHub or <a href=\"https://nbviewer.jupyter.org/\">NBViewer</a>),\n",
       "  it may mean that your frontend doesn't currently support widgets.\n",
       "</p>\n"
      ],
      "text/plain": [
       "interactive(children=(FloatSlider(value=10.0, description='y_3', max=10.0, min=-10.0, step=0.25), Output()), _dom_classes=('widget-interact',))"
      ]
     },
     "metadata": {},
     "output_type": "display_data"
    },
    {
     "data": {
      "text/plain": [
       "<function __main__.bendiness_color>"
      ]
     },
     "execution_count": 10,
     "metadata": {},
     "output_type": "execute_result"
    }
   ],
   "source": [
    "def bendiness_color(y_3):\n",
    "  x_1 = 0\n",
    "  x_2 = 1\n",
    "  x_3 = 2\n",
    "  \n",
    "  y_1 = 1\n",
    "  y_2 = 2\n",
    "  \n",
    "  bendiness = (y_3 - 2*y_2+ y_1)/(1*1)\n",
    "  \n",
    "  if bendiness < -1e-15:\n",
    "    color = 'r'\n",
    "    text = 'The bediness is negative with value %f' % bendiness\n",
    "  elif bendiness > 1e-15:\n",
    "    color = 'r'\n",
    "    text = 'The bediness is positive with value %f' % bendiness\n",
    "  else:\n",
    "    color='g'\n",
    "    text = 'Well done!'\n",
    "    \n",
    "  p = np.polyfit([x_1, x_2, x_3], [y_1, y_2, y_3], 2)\n",
    "  x = np.linspace(0, 2, 100)\n",
    "  y = p[0]*x**2 + p[1]*x + p[2]\n",
    "  \n",
    "  plt.plot([x_1, x_2, x_3], [y_1, y_2, y_3], 'o-', color=color)\n",
    "  plt.plot(x, y, '--', color='k')\n",
    "  plt.text(0.5, 2.25, text, color=color, fontsize=14)\n",
    "\n",
    "interact(bendiness_color,\n",
    "            y_3=widgets.FloatSlider(min=-10, max=10, step=0.25, value=15))"
   ]
  },
  {
   "cell_type": "code",
   "execution_count": 0,
   "metadata": {
    "colab": {
     "autoexec": {
      "startup": false,
      "wait_interval": 0
     }
    },
    "colab_type": "code",
    "id": "EhtxJQI6Mn6m"
   },
   "outputs": [],
   "source": []
  }
 ],
 "metadata": {
  "colab": {
   "collapsed_sections": [],
   "default_view": {},
   "name": "MSTEBendiness.ipynb",
   "provenance": [],
   "version": "0.3.2",
   "views": {}
  },
  "kernelspec": {
   "display_name": "Python 3",
   "language": "python",
   "name": "python3"
  },
  "language_info": {
   "codemirror_mode": {
    "name": "ipython",
    "version": 3
   },
   "file_extension": ".py",
   "mimetype": "text/x-python",
   "name": "python",
   "nbconvert_exporter": "python",
   "pygments_lexer": "ipython3",
   "version": "3.6.3"
  }
 },
 "nbformat": 4,
 "nbformat_minor": 1
}
