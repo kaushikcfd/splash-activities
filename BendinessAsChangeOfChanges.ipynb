{
 "cells": [
  {
   "cell_type": "code",
   "execution_count": 23,
   "metadata": {},
   "outputs": [],
   "source": [
    "import matplotlib.pyplot as plt\n",
    "import numpy as np\n",
    "%matplotlib inline\n",
    "from ipywidgets import interact, interactive, fixed, interact_manual\n",
    "import ipywidgets as widgets\n",
    "\n",
    "def lolipop_plot(ax, x, y):\n",
    "    markerline, stemlines, baseline = ax.stem(x, y)\n",
    "    plt.setp(markerline, 'markerfacecolor', 'b')\n",
    "    plt.setp(baseline, 'color','r', 'linewidth', 2) "
   ]
  },
  {
   "cell_type": "markdown",
   "metadata": {},
   "source": [
    "Consider the bendy curve below."
   ]
  },
  {
   "cell_type": "code",
   "execution_count": 19,
   "metadata": {},
   "outputs": [
    {
     "data": {
      "text/plain": [
       "[<matplotlib.lines.Line2D at 0x7fcda2fcb9b0>]"
      ]
     },
     "execution_count": 19,
     "metadata": {},
     "output_type": "execute_result"
    },
    {
     "data": {
      "image/png": "[encoded data removed]",
      "text/plain": [
       "<matplotlib.figure.Figure at 0x7fcda2650f60>"
      ]
     },
     "metadata": {},
     "output_type": "display_data"
    }
   ],
   "source": [
    "x = np.linspace(0, 6.28, 100)\n",
    "y = np.sin(x)\n",
    "\n",
    "plt.plot(x, y)\n"
   ]
  },
  {
   "cell_type": "markdown",
   "metadata": {},
   "source": [
    "Now let us look at some of the properties of the below curve with our approximation scheme.\n",
    "\n",
    "1. First we approximate the space by capturing the solution only at a limited number of points.\n",
    "2. We calculate the changes between the adjacent points, (remember from the previous assignments that changes is crucial to slope.)\n",
    "3. "
   ]
  },
  {
   "cell_type": "code",
   "execution_count": 25,
   "metadata": {},
   "outputs": [
    {
     "data": {
      "application/vnd.jupyter.widget-view+json": {
       "model_id": "9d03d31307a244dab9c9be2452f882e8",
       "version_major": 2,
       "version_minor": 0
      },
      "text/html": [
       "<p>Failed to display Jupyter Widget of type <code>interactive</code>.</p>\n",
       "<p>\n",
       "  If you're reading this message in the Jupyter Notebook or JupyterLab Notebook, it may mean\n",
       "  that the widgets JavaScript is still loading. If this message persists, it\n",
       "  likely means that the widgets JavaScript library is either not installed or\n",
       "  not enabled. See the <a href=\"https://ipywidgets.readthedocs.io/en/stable/user_install.html\">Jupyter\n",
       "  Widgets Documentation</a> for setup instructions.\n",
       "</p>\n",
       "<p>\n",
       "  If you're reading this message in another frontend (for example, a static\n",
       "  rendering on GitHub or <a href=\"https://nbviewer.jupyter.org/\">NBViewer</a>),\n",
       "  it may mean that your frontend doesn't currently support widgets.\n",
       "</p>\n"
      ],
      "text/plain": [
       "interactive(children=(FloatSlider(value=0.5, continuous_update=False, description='dx', max=1.0, min=0.1, step=0.05), Output()), _dom_classes=('widget-interact',))"
      ]
     },
     "metadata": {},
     "output_type": "display_data"
    },
    {
     "data": {
      "text/plain": [
       "<function __main__.plot_slope_bendiness>"
      ]
     },
     "execution_count": 25,
     "metadata": {},
     "output_type": "execute_result"
    }
   ],
   "source": [
    "def plot_slope_bendiness(dx):\n",
    "    x_continuous = np.linspace(0, 6.28, 1000)\n",
    "    y_continuous = np.sin(x_continuous)\n",
    "    \n",
    "    x_discrete = np.arange(0, 6.28, dx)\n",
    "    y_discrete = np.sin(x_discrete)\n",
    "    \n",
    "    changes = y_discrete[1:]-y_discrete[:-1]\n",
    "    slopes = changes/dx\n",
    "    \n",
    "    change_of_slopes = slopes[1:]-slopes[:-1]\n",
    "    slope_of_slopes = change_of_slopes/dx\n",
    "    \n",
    "    f, axarr = plt.subplots(6, sharex=True, sharey=True)\n",
    "    f.set_figheight(15)\n",
    "    f.set_figwidth(15)\n",
    "    axarr[0].plot(x_continuous, y_continuous)\n",
    "    axarr[0].set_title('Continous curve')\n",
    "    axarr[1].plot(x_discrete, y_discrete, 'o', markersize=4)\n",
    "    axarr[1].set_title('Discretized function')\n",
    "    lolipop_plot(axarr[2], x_discrete[1:], changes)\n",
    "    axarr[2].set_title('Change between the discrete points')\n",
    "    lolipop_plot(axarr[3], x_discrete[1:], slopes)\n",
    "    axarr[3].set_title('Slopes at the discrete points')\n",
    "    lolipop_plot(axarr[4], x_discrete[1:-1], change_of_slopes)\n",
    "    axarr[4].set_title('Change between the discrete slopes.')\n",
    "    lolipop_plot(axarr[5], x_discrete[1:-1], slope_of_slopes)\n",
    "    axarr[5].set_title('Slope of slopes at the discrete points.')\n",
    "\n",
    "    \n",
    "interact(plot_slope_bendiness,\n",
    "            dx=widgets.FloatSlider(min=0.1, max=1, step=0.05, value=0.5, continuous_update=False))\n",
    "    "
   ]
  },
  {
   "cell_type": "code",
   "execution_count": null,
   "metadata": {},
   "outputs": [],
   "source": []
  }
 ],
 "metadata": {
  "kernelspec": {
   "display_name": "Python 3",
   "language": "python",
   "name": "python3"
  },
  "language_info": {
   "codemirror_mode": {
    "name": "ipython",
    "version": 3
   },
   "file_extension": ".py",
   "mimetype": "text/x-python",
   "name": "python",
   "nbconvert_exporter": "python",
   "pygments_lexer": "ipython3",
   "version": "3.6.3"
  }
 },
 "nbformat": 4,
 "nbformat_minor": 2
}
