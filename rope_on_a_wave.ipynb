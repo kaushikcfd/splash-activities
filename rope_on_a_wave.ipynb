{
 "cells": [
  {
   "cell_type": "code",
   "execution_count": 31,
   "metadata": {},
   "outputs": [],
   "source": [
    "import  imageio\n",
    "from PIL import Image, ImageEnhance\n",
    "import matplotlib.pyplot as plt\n",
    "import numpy as np\n",
    "from scipy import ndimage\n",
    "from matplotlib import animation\n",
    "\n",
    "vid_reader = imageio.get_reader('ropeWaveClip02.mov', 'ffmpeg')"
   ]
  },
  {
   "cell_type": "code",
   "execution_count": 32,
   "metadata": {},
   "outputs": [],
   "source": [
    "def get_rope_position_of_frame(frame_rgb):\n",
    "    frame = np.array(Image.fromarray(frame_rgb).convert('HSV')).astype(np.float32)\n",
    "    frame[:, :, 0] = frame[:, :, 0] * (np.pi/180)\n",
    "    dist_from_yellow = np.linalg.norm(frame-np.array([0.6457718, 152., 243.]), axis=2)\n",
    "    rope_position = (719 - (np.argmin(dist_from_yellow, axis=0)))\n",
    "    return rope_position\n",
    "\n",
    "def get_rope_positions_of_video(vid_reader):\n",
    "    rope_positions = []\n",
    "    for i, frame in enumerate(vid_reader.iter_data()):\n",
    "        rope_positions.append(\n",
    "            get_rope_position_of_frame(frame))\n",
    "        if i%100 == 0:\n",
    "            print('Done till', i)\n",
    "        \n",
    "    return rope_positions"
   ]
  },
  {
   "cell_type": "code",
   "execution_count": 34,
   "metadata": {},
   "outputs": [
    {
     "name": "stdout",
     "output_type": "stream",
     "text": [
      "Done till 0\n",
      "Done till 100\n",
      "Done till 200\n",
      "Done till 300\n",
      "Done till 400\n",
      "Done till 500\n",
      "Done till 600\n"
     ]
    }
   ],
   "source": [
    "rope_positions = get_rope_positions_of_video(vid_reader)"
   ]
  },
  {
   "cell_type": "code",
   "execution_count": 42,
   "metadata": {},
   "outputs": [
    {
     "data": {
      "text/plain": [
       "'\\nfrom IPython.display import HTML\\nhtml = HTML(anim.to_html5_video())\\nplt.clf()\\n\\nhtml\\n'"
      ]
     },
     "execution_count": 42,
     "metadata": {},
     "output_type": "execute_result"
    },
    {
     "data": {
      "image/png": "[encoded data removed]",
      "text/plain": [
       "<Figure size 432x864 with 2 Axes>"
      ]
     },
     "metadata": {
      "needs_background": "light"
     },
     "output_type": "display_data"
    }
   ],
   "source": [
    "fig, axarr = plt.subplots(2, figsize=(6, 12))\n",
    "\n",
    "\n",
    "def init():\n",
    "    axarr[0].axis([0, 1280, 0, 720])\n",
    "    axarr[0].set_aspect(1)\n",
    "    plt.tight_layout(rect=(0, 0.39, 1, 1))\n",
    "    return fig,\n",
    "\n",
    "def animate(i):\n",
    "    axarr[0].cla()\n",
    "    axarr[1].cla()\n",
    "    axarr[0].axis([0, 1280, 0, 720])\n",
    "    axarr[0].set_aspect(1)\n",
    "    plt.tight_layout(rect=(0, 0.39, 1, 1))\n",
    "    axarr[0].plot(np.arange(1280), rope_positions[i])\n",
    "    axarr[1].imshow(vid_reader.get_data(i))\n",
    "    return fig,\n",
    "\n",
    "anim = animation.FuncAnimation(\n",
    "    fig, animate, frames=vid_reader.get_length(), init_func=init, interval=100)\n",
    "\n",
    "from IPython.display import HTML\n",
    "html = HTML(anim.to_html5_video())\n",
    "plt.clf()\n",
    "\n",
    "html"
   ]
  },
  {
   "cell_type": "code",
   "execution_count": 44,
   "metadata": {},
   "outputs": [
    {
     "data": {
      "text/plain": [
       "<Figure size 432x288 with 0 Axes>"
      ]
     },
     "metadata": {},
     "output_type": "display_data"
    }
   ],
   "source": [
    "anim.save('extraction.mp4', writer='ffmpeg')"
   ]
  },
  {
   "cell_type": "code",
   "execution_count": null,
   "metadata": {},
   "outputs": [],
   "source": []
  }
 ],
 "metadata": {
  "kernelspec": {
   "display_name": "Python 3",
   "language": "python",
   "name": "python3"
  },
  "language_info": {
   "codemirror_mode": {
    "name": "ipython",
    "version": 3
   },
   "file_extension": ".py",
   "mimetype": "text/x-python",
   "name": "python",
   "nbconvert_exporter": "python",
   "pygments_lexer": "ipython3",
   "version": "3.5.2"
  }
 },
 "nbformat": 4,
 "nbformat_minor": 2
}
